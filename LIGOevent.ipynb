{
 "cells": [
  {
   "cell_type": "markdown",
   "metadata": {},
   "source": [
    "# Processing the LIGO event skymaps in WWT\n",
    "\n",
    "We'll get the skylocation probibility maps from here: https://losc.ligo.org/events/GW150914/\n",
    "There are four different methods to choose from. They are HEALPIX-FITS files\n",
    "\n",
    "The file that is saved from this process requires a vertical flip (fr some reason I doon't understand, what is saved is flipped from the correct way it is plotted below.\n",
    "\n",
    "The image was then processed in SphereToaster with the following parameters:\n",
    "* RA increases Left to right checked\n",
    "* RA of left of EQ 180\n"
   ]
  },
  {
   "cell_type": "code",
   "execution_count": 1,
   "metadata": {
    "collapsed": false
   },
   "outputs": [],
   "source": [
    "import healpy\n",
    "import numpy\n",
    "import matplotlib\n",
    "%matplotlib inline"
   ]
  },
  {
   "cell_type": "code",
   "execution_count": 8,
   "metadata": {
    "collapsed": false
   },
   "outputs": [
    {
     "name": "stdout",
     "output_type": "stream",
     "text": [
      "NSIDE = 512\n",
      "ORDERING = NESTED in fits file\n",
      "INDXSCHM = IMPLICIT\n",
      "Ordering converted to RING\n"
     ]
    }
   ],
   "source": [
    "gwmap = healpy.fitsfunc.read_map('LALInference_skymap.fits')"
   ]
  },
  {
   "cell_type": "code",
   "execution_count": 5,
   "metadata": {
    "collapsed": false
   },
   "outputs": [
    {
     "data": {
      "image/png": "[encoded data removed]",
      "text/plain": [
       "<matplotlib.figure.Figure at 0x1069e5d50>"
      ]
     },
     "metadata": {},
     "output_type": "display_data"
    }
   ],
   "source": [
    "m = healpy.cartview(gwmap,title = \"\", return_projected_map=True,notext=True,cbar=False,xsize=4096, margins= None, cmap=\"hot\")"
   ]
  },
  {
   "cell_type": "code",
   "execution_count": 7,
   "metadata": {
    "collapsed": true
   },
   "outputs": [],
   "source": [
    "matplotlib.pyplot.imsave('LIGO_GW150914_LAL.png', m, cmap=\"hot\")"
   ]
  },
  {
   "cell_type": "markdown",
   "metadata": {},
   "source": [
    "#### Map histogram"
   ]
  },
  {
   "cell_type": "code",
   "execution_count": 6,
   "metadata": {
    "collapsed": false
   },
   "outputs": [
    {
     "data": {
      "text/plain": [
       "(array([  8.08379900e+06,   4.07580000e+04,   2.81480000e+04,\n",
       "          2.03190000e+04,   1.71030000e+04,   1.34560000e+04,\n",
       "          1.11780000e+04,   9.42400000e+03,   8.58900000e+03,\n",
       "          6.95100000e+03,   6.30200000e+03,   5.81200000e+03,\n",
       "          5.45900000e+03,   5.09700000e+03,   4.29300000e+03,\n",
       "          3.76000000e+03,   3.83500000e+03,   3.43700000e+03,\n",
       "          3.36700000e+03,   3.44600000e+03,   3.09800000e+03,\n",
       "          2.96400000e+03,   2.78000000e+03,   2.90500000e+03,\n",
       "          2.74700000e+03,   2.53100000e+03,   2.62200000e+03,\n",
       "          2.52300000e+03,   2.37700000e+03,   2.37200000e+03,\n",
       "          2.42500000e+03,   2.66500000e+03,   1.85000000e+03,\n",
       "          1.60600000e+03,   1.83600000e+03,   1.54600000e+03,\n",
       "          1.61900000e+03,   1.49400000e+03,   1.47900000e+03,\n",
       "          1.51900000e+03,   1.37000000e+03,   1.45900000e+03,\n",
       "          1.47700000e+03,   1.35000000e+03,   1.48200000e+03,\n",
       "          1.41600000e+03,   1.48500000e+03,   1.52100000e+03,\n",
       "          1.51800000e+03,   1.36500000e+03,   1.41500000e+03,\n",
       "          1.28500000e+03,   1.21700000e+03,   1.09500000e+03,\n",
       "          1.10700000e+03,   1.22400000e+03,   1.20200000e+03,\n",
       "          1.05100000e+03,   1.17400000e+03,   1.22600000e+03,\n",
       "          1.21600000e+03,   1.27300000e+03,   1.22700000e+03,\n",
       "          1.14800000e+03,   1.22000000e+03,   1.33800000e+03,\n",
       "          1.14200000e+03,   1.01200000e+03,   9.58000000e+02,\n",
       "          7.55000000e+02,   9.67000000e+02,   8.10000000e+02,\n",
       "          7.76000000e+02,   7.85000000e+02,   8.61000000e+02,\n",
       "          9.51000000e+02,   8.70000000e+02,   9.54000000e+02,\n",
       "          9.56000000e+02,   8.58000000e+02,   9.04000000e+02,\n",
       "          8.41000000e+02,   7.74000000e+02,   8.39000000e+02,\n",
       "          8.77000000e+02,   8.92000000e+02,   8.60000000e+02,\n",
       "          8.20000000e+02,   7.95000000e+02,   8.76000000e+02,\n",
       "          8.10000000e+02,   7.41000000e+02,   4.94000000e+02,\n",
       "          4.59000000e+02,   3.82000000e+02,   3.45000000e+02,\n",
       "          3.55000000e+02,   2.36000000e+02,   1.63000000e+02,\n",
       "          1.38000000e+02]),\n",
       " array([  0.00000000e+00,   6.78087090e-07,   1.35617418e-06,\n",
       "          2.03426127e-06,   2.71234836e-06,   3.39043545e-06,\n",
       "          4.06852254e-06,   4.74660963e-06,   5.42469672e-06,\n",
       "          6.10278381e-06,   6.78087090e-06,   7.45895799e-06,\n",
       "          8.13704508e-06,   8.81513217e-06,   9.49321926e-06,\n",
       "          1.01713063e-05,   1.08493934e-05,   1.15274805e-05,\n",
       "          1.22055676e-05,   1.28836547e-05,   1.35617418e-05,\n",
       "          1.42398289e-05,   1.49179160e-05,   1.55960031e-05,\n",
       "          1.62740902e-05,   1.69521772e-05,   1.76302643e-05,\n",
       "          1.83083514e-05,   1.89864385e-05,   1.96645256e-05,\n",
       "          2.03426127e-05,   2.10206998e-05,   2.16987869e-05,\n",
       "          2.23768740e-05,   2.30549611e-05,   2.37330481e-05,\n",
       "          2.44111352e-05,   2.50892223e-05,   2.57673094e-05,\n",
       "          2.64453965e-05,   2.71234836e-05,   2.78015707e-05,\n",
       "          2.84796578e-05,   2.91577449e-05,   2.98358320e-05,\n",
       "          3.05139190e-05,   3.11920061e-05,   3.18700932e-05,\n",
       "          3.25481803e-05,   3.32262674e-05,   3.39043545e-05,\n",
       "          3.45824416e-05,   3.52605287e-05,   3.59386158e-05,\n",
       "          3.66167029e-05,   3.72947899e-05,   3.79728770e-05,\n",
       "          3.86509641e-05,   3.93290512e-05,   4.00071383e-05,\n",
       "          4.06852254e-05,   4.13633125e-05,   4.20413996e-05,\n",
       "          4.27194867e-05,   4.33975738e-05,   4.40756608e-05,\n",
       "          4.47537479e-05,   4.54318350e-05,   4.61099221e-05,\n",
       "          4.67880092e-05,   4.74660963e-05,   4.81441834e-05,\n",
       "          4.88222705e-05,   4.95003576e-05,   5.01784447e-05,\n",
       "          5.08565317e-05,   5.15346188e-05,   5.22127059e-05,\n",
       "          5.28907930e-05,   5.35688801e-05,   5.42469672e-05,\n",
       "          5.49250543e-05,   5.56031414e-05,   5.62812285e-05,\n",
       "          5.69593156e-05,   5.76374026e-05,   5.83154897e-05,\n",
       "          5.89935768e-05,   5.96716639e-05,   6.03497510e-05,\n",
       "          6.10278381e-05,   6.17059252e-05,   6.23840123e-05,\n",
       "          6.30620994e-05,   6.37401865e-05,   6.44182735e-05,\n",
       "          6.50963606e-05,   6.57744477e-05,   6.64525348e-05,\n",
       "          6.71306219e-05,   6.78087090e-05]),\n",
       " <a list of 100 Patch objects>)"
      ]
     },
     "execution_count": 6,
     "metadata": {},
     "output_type": "execute_result"
    },
    {
     "data": {
      "image/png": "[encoded data removed]",
      "text/plain": [
       "<matplotlib.figure.Figure at 0x13979a890>"
      ]
     },
     "metadata": {},
     "output_type": "display_data"
    }
   ],
   "source": [
    "matplotlib.pyplot.hist(numpy.reshape(m,-1),100)"
   ]
  },
  {
   "cell_type": "markdown",
   "metadata": {},
   "source": [
    "####Save Map"
   ]
  },
  {
   "cell_type": "code",
   "execution_count": 18,
   "metadata": {
    "collapsed": false
   },
   "outputs": [],
   "source": [
    " matplotlib.pyplot.imsave('map_lmax2500_nside1024_interp0.3_method1_1_sim0_phi_map_cart.png', m, cmap=\"RdBu\")\n",
    "    "
   ]
  }
 ],
 "metadata": {
  "kernelspec": {
   "display_name": "Python 2",
   "language": "python",
   "name": "python2"
  },
  "language_info": {
   "codemirror_mode": {
    "name": "ipython",
    "version": 2
   },
   "file_extension": ".py",
   "mimetype": "text/x-python",
   "name": "python",
   "nbconvert_exporter": "python",
   "pygments_lexer": "ipython2",
   "version": "2.7.11"
  }
 },
 "nbformat": 4,
 "nbformat_minor": 0
}
