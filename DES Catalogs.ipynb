{
 "cells": [
  {
   "cell_type": "markdown",
   "metadata": {},
   "source": [
    "# Visualizing DES catalog data in WWT"
   ]
  },
  {
   "cell_type": "code",
   "execution_count": 2,
   "metadata": {
    "collapsed": false
   },
   "outputs": [],
   "source": [
    "#Set up astropy and astroquery \n",
    "from astropy.table import Table,Column\n",
    "from astropy.coordinates import SkyCoord, Distance, CartesianRepresentation\n",
    "from astropy import units as u"
   ]
  },
  {
   "cell_type": "markdown",
   "metadata": {},
   "source": [
    "### Read the data table"
   ]
  },
  {
   "cell_type": "code",
   "execution_count": 23,
   "metadata": {
    "collapsed": false
   },
   "outputs": [
    {
     "data": {
      "text/html": [
       "&lt;Table masked=False length=500000&gt;\n",
       "<table id=\"table174327848\">\n",
       "<thead><tr><th>ra</th><th>dec</th></tr></thead>\n",
       "<thead><tr><th>deg</th><th>deg</th></tr></thead>\n",
       "<thead><tr><th>float64</th><th>float64</th></tr></thead>\n",
       "<tr><td>67.755773</td><td>-45.314525</td></tr>\n",
       "<tr><td>66.93374</td><td>-45.314512</td></tr>\n",
       "<tr><td>67.449696</td><td>-45.315263</td></tr>\n",
       "<tr><td>66.87705</td><td>-45.314107</td></tr>\n",
       "<tr><td>67.816673</td><td>-45.314026</td></tr>\n",
       "<tr><td>67.764621</td><td>-45.314098</td></tr>\n",
       "<tr><td>66.896603</td><td>-45.313995</td></tr>\n",
       "<tr><td>67.675999</td><td>-45.314229</td></tr>\n",
       "<tr><td>67.805699</td><td>-45.313908</td></tr>\n",
       "<tr><td>...</td><td>...</td></tr>\n",
       "<tr><td>72.061269</td><td>-45.66469</td></tr>\n",
       "<tr><td>72.463951</td><td>-45.660545</td></tr>\n",
       "<tr><td>72.163384</td><td>-45.660755</td></tr>\n",
       "<tr><td>72.787842</td><td>-45.660277</td></tr>\n",
       "<tr><td>72.125366</td><td>-45.660358</td></tr>\n",
       "<tr><td>72.027219</td><td>-45.660032</td></tr>\n",
       "<tr><td>71.824238</td><td>-45.659256</td></tr>\n",
       "<tr><td>72.041299</td><td>-45.65997</td></tr>\n",
       "<tr><td>72.113427</td><td>-45.661373</td></tr>\n",
       "<tr><td>72.101322</td><td>-45.66175</td></tr>\n",
       "</table>"
      ],
      "text/plain": [
       "<Table masked=False length=500000>\n",
       "    ra       dec    \n",
       "   deg       deg    \n",
       " float64   float64  \n",
       "--------- ----------\n",
       "67.755773 -45.314525\n",
       " 66.93374 -45.314512\n",
       "67.449696 -45.315263\n",
       " 66.87705 -45.314107\n",
       "67.816673 -45.314026\n",
       "67.764621 -45.314098\n",
       "66.896603 -45.313995\n",
       "67.675999 -45.314229\n",
       "67.805699 -45.313908\n",
       "      ...        ...\n",
       "72.061269  -45.66469\n",
       "72.463951 -45.660545\n",
       "72.163384 -45.660755\n",
       "72.787842 -45.660277\n",
       "72.125366 -45.660358\n",
       "72.027219 -45.660032\n",
       "71.824238 -45.659256\n",
       "72.041299  -45.65997\n",
       "72.113427 -45.661373\n",
       "72.101322  -45.66175"
      ]
     },
     "execution_count": 23,
     "metadata": {},
     "output_type": "execute_result"
    }
   ],
   "source": [
    "#Import data set, keep only the columns we need. Convert distances from kpc to pc for WWT\n",
    "Galaxies = Table.read('Catalogs/SVJan15_tpz2_3_wavgspread3gals_radec.txt', format='ascii.basic',data_start=0,names=('ra','dec'))\n",
    "Galaxies['ra'].unit = u.degree\n",
    "Galaxies['dec'].unit = u.degree\n",
    "Galaxies"
   ]
  },
  {
   "cell_type": "markdown",
   "metadata": {},
   "source": [
    "### Visualize DES Galaxies in WWT"
   ]
  },
  {
   "cell_type": "code",
   "execution_count": 24,
   "metadata": {
    "collapsed": false
   },
   "outputs": [
    {
     "name": "stdout",
     "output_type": "stream",
     "text": [
      "Connecting to WWT on host 127.0.0.1.\n"
     ]
    }
   ],
   "source": [
    "#Connect to WWT and set up Layer Group\n",
    "from pywwt.mods import *\n",
    "wwt = WWTClient(host=\"127.0.0.1\") #Can pass a IP address here if WWT is running on a remote machine\n",
    "wwt.new_layer_group(\"Sky\",\"DES\")"
   ]
  },
  {
   "cell_type": "code",
   "execution_count": 25,
   "metadata": {
    "collapsed": false
   },
   "outputs": [],
   "source": [
    "#Set up WWT layer\n",
    "DES_layer = wwt.new_layer(\"DES\", \"Galaxies\", Galaxies.colnames)\n",
    "#Set visualization parameters in WWT\n",
    "props_dict = {\"CoordinatesType\":\"Spherical\",\\\n",
    "              \"MarkerScale\":\"World\",\\\n",
    "              \"PointScaleType\":\"Constant\",\\\n",
    "              \"ScaleFactor\":\"1\",\\\n",
    "              \"ShowFarSide\":\"True\",\\\n",
    "              \"RaUnits\":\"Degrees\",\\\n",
    "              \"PlotType\":\"Circle\",\\\n",
    "              \"TimeSeries\":\"False\"}\n",
    "DES_layer.set_properties(props_dict)\n",
    "#Send data to WWT client\n",
    "DES_layer.update(data=Galaxies, purge_all=True, no_purge=False, show=True)"
   ]
  },
  {
   "cell_type": "code",
   "execution_count": null,
   "metadata": {
    "collapsed": true
   },
   "outputs": [],
   "source": []
  }
 ],
 "metadata": {
  "kernelspec": {
   "display_name": "Python 2",
   "language": "python",
   "name": "python2"
  },
  "language_info": {
   "codemirror_mode": {
    "name": "ipython",
    "version": 2
   },
   "file_extension": ".py",
   "mimetype": "text/x-python",
   "name": "python",
   "nbconvert_exporter": "python",
   "pygments_lexer": "ipython2",
   "version": "2.7.6"
  }
 },
 "nbformat": 4,
 "nbformat_minor": 0
}
